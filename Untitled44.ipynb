{
  "nbformat": 4,
  "nbformat_minor": 0,
  "metadata": {
    "colab": {
      "provenance": [],
      "toc_visible": true,
      "authorship_tag": "ABX9TyOdAbtMHCEkjsv1Aaa0BNgq",
      "include_colab_link": true
    },
    "kernelspec": {
      "name": "python3",
      "display_name": "Python 3"
    },
    "language_info": {
      "name": "python"
    }
  },
  "cells": [
    {
      "cell_type": "markdown",
      "metadata": {
        "id": "view-in-github",
        "colab_type": "text"
      },
      "source": [
        "<a href=\"https://colab.research.google.com/github/Canefsan/code-upload-drag-and-drop/blob/main/Untitled44.ipynb\" target=\"_parent\"><img src=\"https://colab.research.google.com/assets/colab-badge.svg\" alt=\"Open In Colab\"/></a>"
      ]
    },
    {
      "cell_type": "code",
      "execution_count": null,
      "metadata": {
        "colab": {
          "base_uri": "https://localhost:8080/"
        },
        "id": "I0vHfnU0HJNe",
        "outputId": "6d7d1ee9-56c7-4486-c15a-f12506adcf59"
      },
      "outputs": [
        {
          "output_type": "stream",
          "name": "stdout",
          "text": [
            "Yapmak istediğiniz işlemi seçin:\n",
            "1.Toplama\n",
            "2.Çıkarma\n",
            "3.Çarpma\n",
            "4.Bölme\n"
          ]
        }
      ],
      "source": [
        "def toplama(x, y):\n",
        "    return x + y\n",
        "\n",
        "def cikarma(x, y):\n",
        "    return x - y\n",
        "\n",
        "def carpma(x, y):\n",
        "    return x * y\n",
        "\n",
        "def bolme(x, y):\n",
        "    if y == 0:\n",
        "        return \"Sıfıra bölme hatası!\"\n",
        "    else:\n",
        "        return x / y\n",
        "\n",
        "print(\"Yapmak istediğiniz işlemi seçin:\")\n",
        "print(\"1.Toplama\")\n",
        "print(\"2.Çıkarma\")\n",
        "print(\"3.Çarpma\")\n",
        "print(\"4.Bölme\")\n",
        "\n",
        "secim = input(\"Seçiminizi yapın (1/2/3/4): \")\n",
        "\n",
        "if secim in ('1', '2', '3', '4'):\n",
        "    sayi1 = float(input(\"Birinci sayıyı girin: \"))\n",
        "    sayi2 = float(input(\"İkinci sayıyı girin: \"))\n",
        "\n",
        "    if secim == '1':\n",
        "        print(f\"{sayi1} + {sayi2} = {toplama(sayi1, sayi2)}\")\n",
        "    elif secim == '2':\n",
        "        print(f\"{sayi1} - {sayi2} = {cikarma(sayi1, sayi2)}\")\n",
        "    elif secim == '3':\n",
        "        print(f\"{sayi1} * {sayi2} = {carpma(sayi1, sayi2)}\")\n",
        "    elif secim == '4':\n",
        "        print(f\"{sayi1} / {sayi2} = {bolme(sayi1, sayi2)}\")\n",
        "else:\n",
        "    print(\"Geçersiz giriş!\")\n"
      ]
    }
  ]
}